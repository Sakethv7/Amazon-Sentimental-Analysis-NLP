{
 "cells": [
  {
   "cell_type": "code",
   "execution_count": 1,
   "id": "d2b664a5-9e3d-4458-8909-339fa3b8e115",
   "metadata": {},
   "outputs": [],
   "source": [
    "import spacy"
   ]
  },
  {
   "cell_type": "code",
   "execution_count": 4,
   "id": "e5a8e491-797d-48a7-94c9-f80d32667121",
   "metadata": {},
   "outputs": [
    {
     "name": "stdout",
     "output_type": "stream",
     "text": [
      "Dr. Strange loves Pav Bhaji of Mumbai.\n",
      "Hulk loves Chhole Bhature of Delhi\n"
     ]
    }
   ],
   "source": [
    "nlp = spacy.load(\"en_core_web_sm\") #english language\n",
    "#sentence tokenization in spaCy\n",
    "doc = nlp(\"Dr. Strange loves Pav Bhaji of Mumbai. Hulk loves Chhole Bhature of Delhi\")\n",
    "\n",
    "for sentence in doc.sents:  #object oriented programming, doc is the object and it has a property called sent\n",
    "    print(sentence)"
   ]
  },
  {
   "cell_type": "code",
   "execution_count": 5,
   "id": "c8eea54f-18a5-4a7f-b430-e8c57b32c2af",
   "metadata": {},
   "outputs": [
    {
     "name": "stdout",
     "output_type": "stream",
     "text": [
      "Dr.\n",
      "Strange\n",
      "loves\n",
      "Pav\n",
      "Bhaji\n",
      "of\n",
      "Mumbai\n",
      ".\n",
      "Hulk\n",
      "loves\n",
      "Chhole\n",
      "Bhature\n",
      "of\n",
      "Delhi\n"
     ]
    }
   ],
   "source": [
    "for sentence in doc.sents:\n",
    "    for word in sentence:\n",
    "        print(word)"
   ]
  },
  {
   "cell_type": "code",
   "execution_count": 9,
   "id": "defe90ff-2b4a-4dba-886d-487418dc682f",
   "metadata": {},
   "outputs": [
    {
     "name": "stderr",
     "output_type": "stream",
     "text": [
      "[nltk_data] Downloading package punkt to\n",
      "[nltk_data]     C:\\Users\\saket_kcqjbd6\\AppData\\Roaming\\nltk_data...\n",
      "[nltk_data]   Unzipping tokenizers\\punkt.zip.\n"
     ]
    },
    {
     "data": {
      "text/plain": [
       "True"
      ]
     },
     "execution_count": 9,
     "metadata": {},
     "output_type": "execute_result"
    }
   ],
   "source": [
    "import nltk\n",
    "nltk.download('punkt')"
   ]
  },
  {
   "cell_type": "code",
   "execution_count": 10,
   "id": "7f90721b-e048-4e37-9f7b-d07532c10a42",
   "metadata": {},
   "outputs": [
    {
     "data": {
      "text/plain": [
       "['Dr.',\n",
       " 'Strange loves Pav Bhaji of Mumbai.',\n",
       " 'Hulk loves Chhole Bhature of Delhi']"
      ]
     },
     "execution_count": 10,
     "metadata": {},
     "output_type": "execute_result"
    }
   ],
   "source": [
    "from nltk.tokenize import sent_tokenize\n",
    "sent_tokenize(\"Dr. Strange loves Pav Bhaji of Mumbai. Hulk loves Chhole Bhature of Delhi\")"
   ]
  },
  {
   "cell_type": "code",
   "execution_count": 11,
   "id": "b8d7cab0-0dd2-4630-b644-919faca56851",
   "metadata": {},
   "outputs": [
    {
     "data": {
      "text/plain": [
       "['Dr',\n",
       " '.',\n",
       " 'Strange',\n",
       " 'loves',\n",
       " 'Pav',\n",
       " 'Bhaji',\n",
       " 'of',\n",
       " 'Mumbai',\n",
       " '.',\n",
       " 'Hulk',\n",
       " 'loves',\n",
       " 'Chhole',\n",
       " 'Bhature',\n",
       " 'of',\n",
       " 'Delhi']"
      ]
     },
     "execution_count": 11,
     "metadata": {},
     "output_type": "execute_result"
    }
   ],
   "source": [
    "from nltk.tokenize import word_tokenize\n",
    "word_tokenize(\"Dr. Strange loves Pav Bhaji of Mumbai. Hulk loves Chhole Bhature of Delhi\")"
   ]
  },
  {
   "cell_type": "code",
   "execution_count": 12,
   "id": "f2bc9ec3-a604-4c68-b95c-311e921d1f0d",
   "metadata": {},
   "outputs": [],
   "source": [
    "import spacy\n"
   ]
  },
  {
   "cell_type": "code",
   "execution_count": 13,
   "id": "ddaad111-b12c-45c2-be68-86ac7f3a091b",
   "metadata": {},
   "outputs": [
    {
     "name": "stdout",
     "output_type": "stream",
     "text": [
      "Dr.\n",
      "Strange\n",
      "loves\n",
      "Pav\n",
      "Bhaji\n",
      "of\n",
      "Mumbai\n",
      ".\n",
      "Hulk\n",
      "loves\n",
      "Chhole\n",
      "Bhature\n",
      "of\n",
      "Delhi\n"
     ]
    }
   ],
   "source": [
    "nlp1 = spacy.blank(\"en\")\n",
    "\n",
    "doc1 = nlp(\"Dr. Strange loves Pav Bhaji of Mumbai. Hulk loves Chhole Bhature of Delhi\")\n",
    "\n",
    "for token in doc: \n",
    "    print(token)"
   ]
  },
  {
   "cell_type": "code",
   "execution_count": 14,
   "id": "09c5f343-cf0c-49f2-b7b2-48215553f324",
   "metadata": {},
   "outputs": [
    {
     "data": {
      "text/plain": [
       "'Pav'"
      ]
     },
     "execution_count": 14,
     "metadata": {},
     "output_type": "execute_result"
    }
   ],
   "source": [
    "token2 = doc1[3]\n",
    "token2.text"
   ]
  },
  {
   "cell_type": "code",
   "execution_count": 15,
   "id": "a248756f-963a-464b-b111-47b157cee39d",
   "metadata": {},
   "outputs": [
    {
     "data": {
      "text/plain": [
       "['H001Z036 CERS20210220210230\\n',\n",
       " 'D202102CHZNH\\n',\n",
       " '00000000095273200020050101\\n',\n",
       " '0013000200\\n',\n",
       " '000Y08.00000010.60000+000837.40+000000.00+000066.99+000000.00+000000.00Y000000.002019030419960215F\\n',\n",
       " 'D202102CNHZNH\\n',\n",
       " '0000000009541120002000101520210215030013000200\\n',\n",
       " '000Y08.00000051.58000+008252.80+000000.00+000412.64+000000.00+000000.00Y000000.002021020119600226M\\n',\n",
       " 'D202102CNHZHI\\n',\n",
       " '00000000097201400020090115\\n',\n",
       " '0013000200\\n',\n",
       " '000Y08.00000029.90000+004784.00+000000.00+000239.20+000000.00+000047.84Y000000.002021021619680523F\\n',\n",
       " 'D202102CHZHI\\n',\n",
       " '00000000097201400020101215\\n',\n",
       " '0013000204\\n',\n",
       " '000Y08.00000029.90000+000000.00+000000.00+000150.00+000000.00+000000.00Y000000.002021021619680523F\\n',\n",
       " 'D202102CNHZHI\\n',\n",
       " '00000000092671500020111116\\n',\n",
       " '0013000200\\n',\n",
       " '000Y08.00000033.53000+005364.80+000000.00+000429.18+000000.00+000053.65Y000000.002019071819800904F\\n',\n",
       " 'D202102CNHZHI\\n',\n",
       " '00000000092671500020111116\\n',\n",
       " '0013000203\\n',\n",
       " '000Y08.00000033.53000+007500.00+000000.00+000600.00+000000.00+000075.00Y000000.002019071819800904F\\n',\n",
       " 'D202102CNHZNP\\n',\n",
       " '00000000092254100020210201\\n',\n",
       " '0013030200\\n',\n",
       " '000Y08.00000019.23000+003076.80+000000.00+000000.00+000000.00+000000.00Y000000.002022020119880908M\\n',\n",
       " 'D202102CHZNH\\n',\n",
       " '00000000094421400020070625\\n',\n",
       " '0013080200\\n',\n",
       " '000Y04.00000010.60000+000848.00+000000.00+000067.84+000000.00+000000.00Y000000.002018122219950826M\\n',\n",
       " 'D202102CNHZNP\\n',\n",
       " '0000000009854710002020120120210215000013020200\\n',\n",
       " '000Y04.00000015.59000+001500.00+000000.00+000000.00+000000.00+000000.00Y000000.002021021019860910F\\n',\n",
       " 'D202102CNHZCB\\n',\n",
       " '00000000098547100020210216\\n',\n",
       " '0013000205\\n',\n",
       " '000Y04.00000015.59000+001500.00+000000.00+000075.00+000000.00+000015.00Y000000.002021021019860910F\\n',\n",
       " 'D202102CNHZHI\\n',\n",
       " '00000000091288500020120316\\n',\n",
       " '0013000200\\n',\n",
       " '000Y04.00001500.00001+001500.00+000000.00+000075.00+000000.00+000015.00Y000000.002019073119631010F\\n',\n",
       " 'D202102CNHZHI\\n',\n",
       " '00000000091288500020120316\\n',\n",
       " '0013000200\\n',\n",
       " '000Y04.00001700.00001+001500.00+000000.00+000075.00+000000.00+000015.00Y000000.002019073119631010F\\n',\n",
       " 'D202102CNHZCB\\n',\n",
       " '00000000096557900020210115\\n',\n",
       " '0013000200\\n',\n",
       " '000Y08.00000011.46000+001833.60+000000.00+000091.68+000000.00+000018.34Y000000.002019070519781204F\\n',\n",
       " 'D202101CNHZCB\\n',\n",
       " '00000000096557900020210115\\n',\n",
       " '0013000200\\n',\n",
       " '000Y08.00000011.46000+001833.60+000000.00+000091.68+000000.00+000018.34Y000000.002019070519781204F\\n',\n",
       " 'FZ036 CERS202102000013+0000000000.00+0000040331.00+0000002374.21+0000000258.1720210230\\n',\n",
       " '\\n',\n",
       " 'VIJAYA\\n',\n",
       " 'BRANDON\\n',\n",
       " 'JUNE\\n',\n",
       " 'JUNE\\n',\n",
       " 'HOLLY\\n',\n",
       " 'HOLLY\\n',\n",
       " 'MARTIN\\n',\n",
       " 'JAY\\n',\n",
       " 'SHELLY\\n',\n",
       " 'SHELLY\\n',\n",
       " 'MARY\\n',\n",
       " 'MARY\\n',\n",
       " 'ASHLEY\\n',\n",
       " 'ASHLEY\\n',\n",
       " '\\n',\n",
       " 'A\\n',\n",
       " 'B\\n',\n",
       " 'K\\n',\n",
       " 'K\\n',\n",
       " 'M\\n',\n",
       " 'M\\n',\n",
       " 'C\\n',\n",
       " 'M\\n',\n",
       " 'E\\n',\n",
       " 'E\\n',\n",
       " 'O\\n',\n",
       " 'O\\n',\n",
       " 'M\\n',\n",
       " 'M\\n',\n",
       " '\\n',\n",
       " 'PALA\\n',\n",
       " 'SMITH\\n',\n",
       " 'BARNES\\n',\n",
       " 'BARNES\\n',\n",
       " 'LAKE\\n',\n",
       " 'LAKE\\n',\n",
       " 'BLAKE\\n',\n",
       " 'SINGH\\n',\n",
       " 'LANG\\n',\n",
       " 'LANG\\n',\n",
       " 'GOOD\\n',\n",
       " 'GOOD\\n',\n",
       " 'LONG\\n',\n",
       " 'LONG\\n',\n",
       " '\\n',\n",
       " '1260 LOUISVILLE RD\\n',\n",
       " '1260 LOUISVILLE RD\\n',\n",
       " '1260 LOUISVILLE RD\\n',\n",
       " '1260 LOUISVILLE RD\\n',\n",
       " '1260 LOUISVILLE RD\\n',\n",
       " '1260 LOUISVILLE RD\\n',\n",
       " '1260 LOUISVILLE RD\\n',\n",
       " '1260 LOUISVILLE RD\\n',\n",
       " '1260 LOUISVILLE RD\\n',\n",
       " '1260 LOUISVILLE RD\\n',\n",
       " '1260 LOUISVILLE RD\\n',\n",
       " '1260 LOUISVILLE RD\\n',\n",
       " '1260 LOUISVILLE RD\\n',\n",
       " '1260 LOUISVILLE RD\\n',\n",
       " '\\n',\n",
       " 'FRANKFORT\\n',\n",
       " 'FRANKFORT\\n',\n",
       " 'FRANKFORT\\n',\n",
       " 'FRANKFORT\\n',\n",
       " 'FRANKFORT\\n',\n",
       " 'FRANKFORT\\n',\n",
       " 'FRANKFORT\\n',\n",
       " 'FRANKFORT\\n',\n",
       " 'FRANKFORT\\n',\n",
       " 'FRANKFORT\\n',\n",
       " 'FRANKFORT\\n',\n",
       " 'FRANKFORT\\n',\n",
       " 'FRANKFORT\\n',\n",
       " 'FRANKFORT\\n',\n",
       " '\\n',\n",
       " 'KY406010000N\\n',\n",
       " 'KY406010000N\\n',\n",
       " 'KY406010000N\\n',\n",
       " 'KY406010000N\\n',\n",
       " 'KY406010000N\\n',\n",
       " 'KY406010000N\\n',\n",
       " 'KY406010000N\\n',\n",
       " 'KY406010000N\\n',\n",
       " 'KY406010000N\\n',\n",
       " 'KY406010000N\\n',\n",
       " 'KY406010000N\\n',\n",
       " 'KY406010000N\\n',\n",
       " 'KY406010000N\\n',\n",
       " 'KY406010000N\\n',\n",
       " '\\n',\n",
       " '000000.00000.0000.00000000.0000.00000000.00\\n',\n",
       " '000000.00000.0000.00000000.0000.00000000.00\\n',\n",
       " '000000.00000.0000.00000000.0000.00000000.00\\n',\n",
       " '000000.00000.0000.00000000.0000.00000000.00\\n',\n",
       " '000000.00000.0000.00000000.0000.00000000.00\\n',\n",
       " '000000.00000.0000.00000000.0000.00000000.00\\n',\n",
       " '000000.00000.0000.00000000.0000.00000000.00\\n',\n",
       " '000000.00000.0000.00000000.0000.00000000.00\\n',\n",
       " '000000.00000.0000.00000000.0000.00000000.00\\n',\n",
       " '000000.00000.0000.00000000.0000.00000000.00\\n',\n",
       " '000000.00000.0000.00000000.0000.00000000.00\\n',\n",
       " '000000.00000.0000.00000000.0000.00000000.00\\n',\n",
       " '000000.00000.0000.00000000.0000.00000000.00\\n',\n",
       " '000000.00000.0000.00000000.0000.00000000.00\\n',\n",
       " '\\n',\n",
       " 'VIJAYA@CITY.GOV\\n',\n",
       " 'BRANDON@CITY.GOV\\n',\n",
       " 'JUNE@CITY.GOV\\n',\n",
       " 'JUNE@CITY.GOV\\n',\n",
       " 'HOLLY@CITY.GOV\\n',\n",
       " 'HOLLY@CITY.GOV\\n',\n",
       " 'SHELLY@CITY.GOV\\n',\n",
       " 'SHELLY@CITY.GOV\\n',\n",
       " 'MARY@CITY.GOV\\n',\n",
       " 'MARY@CITY.GOV\\n',\n",
       " 'ASHLEY@CITY.GOV\\n',\n",
       " 'ASHLEY@CITY.GOV\\n',\n",
       " '\\n',\n",
       " '\\x0c']"
      ]
     },
     "execution_count": 15,
     "metadata": {},
     "output_type": "execute_result"
    }
   ],
   "source": [
    "with open(\"C:/Users/saket_kcqjbd6/Downloads/emails.txt.txt\") as f:\n",
    "    text = f.readlines()\n",
    "text"
   ]
  },
  {
   "cell_type": "code",
   "execution_count": 16,
   "id": "9cb02cd2-91f1-4075-9c4c-150be75b34cc",
   "metadata": {},
   "outputs": [
    {
     "data": {
      "text/plain": [
       "'H001Z036 CERS20210220210230\\n D202102CHZNH\\n 00000000095273200020050101\\n 0013000200\\n 000Y08.00000010.60000+000837.40+000000.00+000066.99+000000.00+000000.00Y000000.002019030419960215F\\n D202102CNHZNH\\n 0000000009541120002000101520210215030013000200\\n 000Y08.00000051.58000+008252.80+000000.00+000412.64+000000.00+000000.00Y000000.002021020119600226M\\n D202102CNHZHI\\n 00000000097201400020090115\\n 0013000200\\n 000Y08.00000029.90000+004784.00+000000.00+000239.20+000000.00+000047.84Y000000.002021021619680523F\\n D202102CHZHI\\n 00000000097201400020101215\\n 0013000204\\n 000Y08.00000029.90000+000000.00+000000.00+000150.00+000000.00+000000.00Y000000.002021021619680523F\\n D202102CNHZHI\\n 00000000092671500020111116\\n 0013000200\\n 000Y08.00000033.53000+005364.80+000000.00+000429.18+000000.00+000053.65Y000000.002019071819800904F\\n D202102CNHZHI\\n 00000000092671500020111116\\n 0013000203\\n 000Y08.00000033.53000+007500.00+000000.00+000600.00+000000.00+000075.00Y000000.002019071819800904F\\n D202102CNHZNP\\n 00000000092254100020210201\\n 0013030200\\n 000Y08.00000019.23000+003076.80+000000.00+000000.00+000000.00+000000.00Y000000.002022020119880908M\\n D202102CHZNH\\n 00000000094421400020070625\\n 0013080200\\n 000Y04.00000010.60000+000848.00+000000.00+000067.84+000000.00+000000.00Y000000.002018122219950826M\\n D202102CNHZNP\\n 0000000009854710002020120120210215000013020200\\n 000Y04.00000015.59000+001500.00+000000.00+000000.00+000000.00+000000.00Y000000.002021021019860910F\\n D202102CNHZCB\\n 00000000098547100020210216\\n 0013000205\\n 000Y04.00000015.59000+001500.00+000000.00+000075.00+000000.00+000015.00Y000000.002021021019860910F\\n D202102CNHZHI\\n 00000000091288500020120316\\n 0013000200\\n 000Y04.00001500.00001+001500.00+000000.00+000075.00+000000.00+000015.00Y000000.002019073119631010F\\n D202102CNHZHI\\n 00000000091288500020120316\\n 0013000200\\n 000Y04.00001700.00001+001500.00+000000.00+000075.00+000000.00+000015.00Y000000.002019073119631010F\\n D202102CNHZCB\\n 00000000096557900020210115\\n 0013000200\\n 000Y08.00000011.46000+001833.60+000000.00+000091.68+000000.00+000018.34Y000000.002019070519781204F\\n D202101CNHZCB\\n 00000000096557900020210115\\n 0013000200\\n 000Y08.00000011.46000+001833.60+000000.00+000091.68+000000.00+000018.34Y000000.002019070519781204F\\n FZ036 CERS202102000013+0000000000.00+0000040331.00+0000002374.21+0000000258.1720210230\\n \\n VIJAYA\\n BRANDON\\n JUNE\\n JUNE\\n HOLLY\\n HOLLY\\n MARTIN\\n JAY\\n SHELLY\\n SHELLY\\n MARY\\n MARY\\n ASHLEY\\n ASHLEY\\n \\n A\\n B\\n K\\n K\\n M\\n M\\n C\\n M\\n E\\n E\\n O\\n O\\n M\\n M\\n \\n PALA\\n SMITH\\n BARNES\\n BARNES\\n LAKE\\n LAKE\\n BLAKE\\n SINGH\\n LANG\\n LANG\\n GOOD\\n GOOD\\n LONG\\n LONG\\n \\n 1260 LOUISVILLE RD\\n 1260 LOUISVILLE RD\\n 1260 LOUISVILLE RD\\n 1260 LOUISVILLE RD\\n 1260 LOUISVILLE RD\\n 1260 LOUISVILLE RD\\n 1260 LOUISVILLE RD\\n 1260 LOUISVILLE RD\\n 1260 LOUISVILLE RD\\n 1260 LOUISVILLE RD\\n 1260 LOUISVILLE RD\\n 1260 LOUISVILLE RD\\n 1260 LOUISVILLE RD\\n 1260 LOUISVILLE RD\\n \\n FRANKFORT\\n FRANKFORT\\n FRANKFORT\\n FRANKFORT\\n FRANKFORT\\n FRANKFORT\\n FRANKFORT\\n FRANKFORT\\n FRANKFORT\\n FRANKFORT\\n FRANKFORT\\n FRANKFORT\\n FRANKFORT\\n FRANKFORT\\n \\n KY406010000N\\n KY406010000N\\n KY406010000N\\n KY406010000N\\n KY406010000N\\n KY406010000N\\n KY406010000N\\n KY406010000N\\n KY406010000N\\n KY406010000N\\n KY406010000N\\n KY406010000N\\n KY406010000N\\n KY406010000N\\n \\n 000000.00000.0000.00000000.0000.00000000.00\\n 000000.00000.0000.00000000.0000.00000000.00\\n 000000.00000.0000.00000000.0000.00000000.00\\n 000000.00000.0000.00000000.0000.00000000.00\\n 000000.00000.0000.00000000.0000.00000000.00\\n 000000.00000.0000.00000000.0000.00000000.00\\n 000000.00000.0000.00000000.0000.00000000.00\\n 000000.00000.0000.00000000.0000.00000000.00\\n 000000.00000.0000.00000000.0000.00000000.00\\n 000000.00000.0000.00000000.0000.00000000.00\\n 000000.00000.0000.00000000.0000.00000000.00\\n 000000.00000.0000.00000000.0000.00000000.00\\n 000000.00000.0000.00000000.0000.00000000.00\\n 000000.00000.0000.00000000.0000.00000000.00\\n \\n VIJAYA@CITY.GOV\\n BRANDON@CITY.GOV\\n JUNE@CITY.GOV\\n JUNE@CITY.GOV\\n HOLLY@CITY.GOV\\n HOLLY@CITY.GOV\\n SHELLY@CITY.GOV\\n SHELLY@CITY.GOV\\n MARY@CITY.GOV\\n MARY@CITY.GOV\\n ASHLEY@CITY.GOV\\n ASHLEY@CITY.GOV\\n \\n \\x0c'"
      ]
     },
     "execution_count": 16,
     "metadata": {},
     "output_type": "execute_result"
    }
   ],
   "source": [
    "text = ' '.join(text)\n",
    "text"
   ]
  },
  {
   "cell_type": "code",
   "execution_count": 17,
   "id": "6014b45c-6c5f-4f40-b364-06ce3dddd6fc",
   "metadata": {},
   "outputs": [
    {
     "data": {
      "text/plain": [
       "['VIJAYA@CITY.GOV',\n",
       " 'BRANDON@CITY.GOV',\n",
       " 'JUNE@CITY.GOV',\n",
       " 'JUNE@CITY.GOV',\n",
       " 'HOLLY@CITY.GOV',\n",
       " 'HOLLY@CITY.GOV',\n",
       " 'SHELLY@CITY.GOV',\n",
       " 'SHELLY@CITY.GOV',\n",
       " 'MARY@CITY.GOV',\n",
       " 'MARY@CITY.GOV',\n",
       " 'ASHLEY@CITY.GOV',\n",
       " 'ASHLEY@CITY.GOV']"
      ]
     },
     "execution_count": 17,
     "metadata": {},
     "output_type": "execute_result"
    }
   ],
   "source": [
    "doc2 = nlp1(text)\n",
    "emails=[]\n",
    "\n",
    "for token in doc2:\n",
    "    if token.like_email:\n",
    "        emails.append(token.text)\n",
    "emails\n",
    "\n"
   ]
  },
  {
   "cell_type": "code",
   "execution_count": null,
   "id": "190fa439-8114-4a77-a65f-d464ae578d7c",
   "metadata": {},
   "outputs": [],
   "source": []
  }
 ],
 "metadata": {
  "kernelspec": {
   "display_name": "Python 3 (ipykernel)",
   "language": "python",
   "name": "python3"
  },
  "language_info": {
   "codemirror_mode": {
    "name": "ipython",
    "version": 3
   },
   "file_extension": ".py",
   "mimetype": "text/x-python",
   "name": "python",
   "nbconvert_exporter": "python",
   "pygments_lexer": "ipython3",
   "version": "3.12.3"
  }
 },
 "nbformat": 4,
 "nbformat_minor": 5
}
