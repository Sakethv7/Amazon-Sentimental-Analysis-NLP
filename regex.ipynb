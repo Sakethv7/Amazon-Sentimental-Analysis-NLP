{
 "cells": [
  {
   "cell_type": "code",
   "execution_count": 8,
   "id": "b125d266-ff1c-4300-95c8-239c4ba76b14",
   "metadata": {},
   "outputs": [],
   "source": [
    "# inbuilt module helps in pattern matching\n",
    "import re "
   ]
  },
  {
   "cell_type": "code",
   "execution_count": 24,
   "id": "05922e23-7b53-48bd-8a90-2481b588665d",
   "metadata": {},
   "outputs": [],
   "source": [
    "chat1 ='codebasocs: you ask lot of questions 😣  1234567890, abcA@xyz.com order # 41288'\n",
    "chat2 = ' codebasics: here it is : (123)-567-8912, abZ_82@xyz.com  order # 41278'\n",
    "chat3 = 'codebasics:yes, phone:1234567890 email: abc@xyz.edu order # 41358 '\n",
    "\n",
    "\n"
   ]
  },
  {
   "cell_type": "code",
   "execution_count": 27,
   "id": "0aef6a67-fca2-46ed-864e-a2f5a078d6b7",
   "metadata": {},
   "outputs": [
    {
     "name": "stderr",
     "output_type": "stream",
     "text": [
      "<>:3: SyntaxWarning: invalid escape sequence '\\d'\n",
      "<>:3: SyntaxWarning: invalid escape sequence '\\d'\n",
      "C:\\Users\\saket_kcqjbd6\\AppData\\Local\\Temp\\ipykernel_33272\\3973556418.py:3: SyntaxWarning: invalid escape sequence '\\d'\n",
      "  pattern = \"order[^\\d]*(\\d*)\"\n"
     ]
    },
    {
     "data": {
      "text/plain": [
       "['41358']"
      ]
     },
     "execution_count": 27,
     "metadata": {},
     "output_type": "execute_result"
    }
   ],
   "source": [
    "# pattern = '\\d{10}|\\(\\d{3}\\)-\\d{3}-\\d{4}' -#ell number\n",
    "# pattern = \"[a-z0-9A-Z_]*@[a-z0-9A-Z]*\\.[a-zA-Z]*\" # email\n",
    "pattern = \"order[^\\d]*(\\d*)\"\n",
    "matches = re.findall(pattern, chat3)\n",
    "matches"
   ]
  },
  {
   "cell_type": "code",
   "execution_count": 44,
   "id": "37c1f3cd-e60f-4d71-bddf-57e8c92f9894",
   "metadata": {},
   "outputs": [],
   "source": [
    "text = '''\n",
    "\n",
    "Elon Reeve Musk\n",
    "Born June 28, 1971 (age 52)\n",
    "Pretoria, Transvaal, South Africa\n",
    "Citizenship\t\n",
    "South Africa\n",
    "Canada\n",
    "United States\n",
    "Education\tUniversity of Pennsylvania (BA, BS)\n",
    "Title\t\n",
    "Founder, CEO, and chief engineer of SpaceX\n",
    "CEO and product architect of Tesla, Inc.\n",
    "Owner, CTO and Executive Chairman of X (formerly Twitter)\n",
    "President of the Musk Foundation\n",
    "Founder of The Boring Company, X Corp., and xAI\n",
    "Co-founder of Neuralink, OpenAI, Zip2, and X.com (part of PayPal)\n",
    "Spouses\t\n",
    "Justine Wilson\n",
    "​\n",
    "​(m. 2000; div. 2008)​\n",
    "Talulah Riley\n",
    "​\n",
    "​(m. 2010; div. 2012)​\n",
    "​\n",
    "​(m. 2013; div. 2016)\n",
    "\n",
    "\n",
    "'''"
   ]
  },
  {
   "cell_type": "code",
   "execution_count": 47,
   "id": "bdfb4c55-a7b9-4518-910b-746c637ea0f3",
   "metadata": {},
   "outputs": [
    {
     "name": "stderr",
     "output_type": "stream",
     "text": [
      "<>:1: SyntaxWarning: invalid escape sequence '\\d'\n",
      "<>:3: SyntaxWarning: invalid escape sequence '\\('\n",
      "<>:1: SyntaxWarning: invalid escape sequence '\\d'\n",
      "<>:3: SyntaxWarning: invalid escape sequence '\\('\n",
      "C:\\Users\\saket_kcqjbd6\\AppData\\Local\\Temp\\ipykernel_33272\\3230182548.py:1: SyntaxWarning: invalid escape sequence '\\d'\n",
      "  pattern2 = \"age (\\d+)\" # age\n",
      "C:\\Users\\saket_kcqjbd6\\AppData\\Local\\Temp\\ipykernel_33272\\3230182548.py:3: SyntaxWarning: invalid escape sequence '\\('\n",
      "  pattern4 = \"\\(age.*\\n(.*)\" #place of birth\n"
     ]
    },
    {
     "data": {
      "text/plain": [
       "'Pretoria, Transvaal, South Africa'"
      ]
     },
     "execution_count": 47,
     "metadata": {},
     "output_type": "execute_result"
    }
   ],
   "source": [
    "pattern2 = \"age (\\d+)\" # age\n",
    "pattern3 = \"Born(.*)\" #Born\n",
    "pattern4 = \"\\(age.*\\n(.*)\" #place of birth\n",
    "matches = re.findall(pattern4, text)\n",
    "matches[0].strip()\n"
   ]
  },
  {
   "cell_type": "code",
   "execution_count": 48,
   "id": "6b9fded1-928f-41a8-8dac-e6efcf020008",
   "metadata": {},
   "outputs": [],
   "source": [
    "def get_pattern_match(pattern_og, text):\n",
    "    matches= re.findall(pattern3, text)\n",
    "    if matches:\n",
    "        return matches[0]\n"
   ]
  },
  {
   "cell_type": "code",
   "execution_count": 49,
   "id": "fd8e2619-6b87-4437-bc27-a62de16366fd",
   "metadata": {},
   "outputs": [
    {
     "data": {
      "text/plain": [
       "' June 28, 1971 (age 52)'"
      ]
     },
     "execution_count": 49,
     "metadata": {},
     "output_type": "execute_result"
    }
   ],
   "source": [
    "get_pattern_match('Born(.*)', text)\n"
   ]
  },
  {
   "cell_type": "code",
   "execution_count": 52,
   "id": "2954e566-1882-412e-9895-23895125497e",
   "metadata": {},
   "outputs": [
    {
     "name": "stderr",
     "output_type": "stream",
     "text": [
      "<>:2: SyntaxWarning: invalid escape sequence '\\d'\n",
      "<>:3: SyntaxWarning: invalid escape sequence '\\('\n",
      "<>:2: SyntaxWarning: invalid escape sequence '\\d'\n",
      "<>:3: SyntaxWarning: invalid escape sequence '\\('\n",
      "C:\\Users\\saket_kcqjbd6\\AppData\\Local\\Temp\\ipykernel_33272\\1519733438.py:2: SyntaxWarning: invalid escape sequence '\\d'\n",
      "  age= get_pattern_match('age (\\d+)', text)\n",
      "C:\\Users\\saket_kcqjbd6\\AppData\\Local\\Temp\\ipykernel_33272\\1519733438.py:3: SyntaxWarning: invalid escape sequence '\\('\n",
      "  birth_place = get_pattern_match('\\(age.*\\n(.*)', text)\n"
     ]
    }
   ],
   "source": [
    "def get_personal_information(text):\n",
    "    age= get_pattern_match('age (\\d+)', text)\n",
    "    birth_place = get_pattern_match('\\(age.*\\n(.*)', text)\n",
    "    birth_date = get_pattern_match('Born(.*)', text)\n",
    "\n",
    "    return {\n",
    "        'age' : int(age),\n",
    "        'birth_date': birth_date.strip(),\n",
    "        'birth_place': birth_place.strip()\n",
    "    }"
   ]
  },
  {
   "cell_type": "code",
   "execution_count": 53,
   "id": "8d5a70a3-36fb-46de-980e-094b2e6535df",
   "metadata": {},
   "outputs": [
    {
     "data": {
      "text/plain": [
       "{'age': 52,\n",
       " 'birth_date': 'June 28, 1971 (age 52)',\n",
       " 'birth_place': 'Pretoria, Transvaal, South Africa'}"
      ]
     },
     "execution_count": 53,
     "metadata": {},
     "output_type": "execute_result"
    }
   ],
   "source": [
    "get_personal_information(text)"
   ]
  },
  {
   "cell_type": "code",
   "execution_count": null,
   "id": "af0d12ad-3249-459a-b074-ead6b3e5342e",
   "metadata": {},
   "outputs": [],
   "source": []
  }
 ],
 "metadata": {
  "kernelspec": {
   "display_name": "Python 3 (ipykernel)",
   "language": "python",
   "name": "python3"
  },
  "language_info": {
   "codemirror_mode": {
    "name": "ipython",
    "version": 3
   },
   "file_extension": ".py",
   "mimetype": "text/x-python",
   "name": "python",
   "nbconvert_exporter": "python",
   "pygments_lexer": "ipython3",
   "version": "3.12.3"
  }
 },
 "nbformat": 4,
 "nbformat_minor": 5
}
